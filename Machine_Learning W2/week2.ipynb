{
 "cells": [
  {
   "cell_type": "code",
   "execution_count": 6,
   "id": "6972eaf5",
   "metadata": {},
   "outputs": [],
   "source": [
    "\n",
    "import numpy as np \n"
   ]
  },
  {
   "cell_type": "code",
   "execution_count": 7,
   "id": "c748cf5c",
   "metadata": {},
   "outputs": [
    {
     "name": "stdout",
     "output_type": "stream",
     "text": [
      "[1 2 3]\n"
     ]
    }
   ],
   "source": [
    "array = np.array([1,2,3]) \n",
    "print(array)"
   ]
  },
  {
   "cell_type": "code",
   "execution_count": 8,
   "id": "a6e483b3",
   "metadata": {},
   "outputs": [
    {
     "name": "stdout",
     "output_type": "stream",
     "text": [
      "(15,)\n"
     ]
    }
   ],
   "source": [
    "array2= np.array([1,2,3,4,5,6,7,8,9,10,11,12,13,14,15])\n",
    "\n",
    "print(array2.shape) "
   ]
  },
  {
   "cell_type": "code",
   "execution_count": 9,
   "id": "3db25806",
   "metadata": {},
   "outputs": [
    {
     "name": "stdout",
     "output_type": "stream",
     "text": [
      "[[ 1  2  3  4  5]\n",
      " [ 6  7  8  9 10]\n",
      " [11 12 13 14 15]]\n"
     ]
    }
   ],
   "source": [
    "a = array2.reshape(3,5) \n",
    "print(a)"
   ]
  },
  {
   "cell_type": "code",
   "execution_count": 12,
   "id": "aa56913e",
   "metadata": {},
   "outputs": [
    {
     "name": "stdout",
     "output_type": "stream",
     "text": [
      "shape:  (3, 5)\n",
      "dimension:  2\n",
      "data type:  int32\n",
      "size:  15\n",
      "type <class 'numpy.ndarray'>\n"
     ]
    }
   ],
   "source": [
    "print(\"shape: \",a.shape) \n",
    "\n",
    "print(\"dimension: \",a.ndim) \n",
    "\n",
    "print(\"data type: \",a.dtype.name) \n",
    "\n",
    "print(\"size: \",a.size) \n",
    "                       \n",
    "print(\"type\",type(a))  "
   ]
  },
  {
   "cell_type": "code",
   "execution_count": 14,
   "id": "46320926",
   "metadata": {},
   "outputs": [],
   "source": [
    "array3= np.array([[1,2,3,4],[5,6,7,8],[9,10,11,12]]) "
   ]
  },
  {
   "cell_type": "code",
   "execution_count": 15,
   "id": "152e45f9",
   "metadata": {},
   "outputs": [
    {
     "name": "stdout",
     "output_type": "stream",
     "text": [
      "[[ 1  2  3  4]\n",
      " [ 5  6  7  8]\n",
      " [ 9 10 11 12]]\n"
     ]
    }
   ],
   "source": [
    "print(array3)"
   ]
  },
  {
   "cell_type": "code",
   "execution_count": 16,
   "id": "3c22984b",
   "metadata": {},
   "outputs": [
    {
     "name": "stdout",
     "output_type": "stream",
     "text": [
      "(3, 4)\n"
     ]
    }
   ],
   "source": [
    "print(array3.shape)"
   ]
  },
  {
   "cell_type": "code",
   "execution_count": 17,
   "id": "0a2ee1ca",
   "metadata": {},
   "outputs": [],
   "source": [
    "zeros= np.zeros((3,4))"
   ]
  },
  {
   "cell_type": "code",
   "execution_count": 18,
   "id": "1a4924c5",
   "metadata": {},
   "outputs": [
    {
     "name": "stdout",
     "output_type": "stream",
     "text": [
      "[[5. 0. 0. 0.]\n",
      " [0. 0. 0. 0.]\n",
      " [0. 0. 0. 0.]]\n"
     ]
    }
   ],
   "source": [
    "zeros[0,0]=5\n",
    "print(zeros)"
   ]
  },
  {
   "cell_type": "code",
   "execution_count": 20,
   "id": "ae2eee1f",
   "metadata": {},
   "outputs": [
    {
     "data": {
      "text/plain": [
       "array([[1., 1., 1., 1.],\n",
       "       [1., 1., 1., 1.],\n",
       "       [1., 1., 1., 1.]])"
      ]
     },
     "execution_count": 20,
     "metadata": {},
     "output_type": "execute_result"
    }
   ],
   "source": [
    "np.ones((3,4))"
   ]
  },
  {
   "cell_type": "code",
   "execution_count": 21,
   "id": "9fa7b1d4",
   "metadata": {},
   "outputs": [
    {
     "data": {
      "text/plain": [
       "array([[ 1.33360450e+241,  7.03186965e-310,  1.71489145e-227,\n",
       "         7.28577030e+199,  6.01124697e+175],\n",
       "       [ 2.41695321e-311,  3.01526111e+150,  6.92684449e+218,\n",
       "         3.75597342e+199,  1.36621083e+161],\n",
       "       [ 6.18952898e+223,  3.51214546e+151, -9.25672125e+061,\n",
       "         1.86345477e-303,  8.55292466e-310],\n",
       "       [-8.61131834e+199,  4.72153766e+257,  1.62229162e+243,\n",
       "         1.78421650e-309,  6.32306726e+233]])"
      ]
     },
     "execution_count": 21,
     "metadata": {},
     "output_type": "execute_result"
    }
   ],
   "source": [
    "np.empty((4,5))"
   ]
  },
  {
   "cell_type": "code",
   "execution_count": 22,
   "id": "41918dc1",
   "metadata": {},
   "outputs": [
    {
     "data": {
      "text/plain": [
       "array([10, 15, 20, 25, 30, 35, 40, 45])"
      ]
     },
     "execution_count": 22,
     "metadata": {},
     "output_type": "execute_result"
    }
   ],
   "source": [
    "np.arange(10,50,5)"
   ]
  },
  {
   "cell_type": "code",
   "execution_count": 23,
   "id": "a920b3a3",
   "metadata": {},
   "outputs": [
    {
     "name": "stdout",
     "output_type": "stream",
     "text": [
      "[[ 1  2  3  4  5]\n",
      " [ 6  7  8  9 10]]\n"
     ]
    }
   ],
   "source": [
    "b = np.array([[1,2,3,4,5],[6,7,8,9,10]]) \n",
    "print(b)"
   ]
  },
  {
   "cell_type": "code",
   "execution_count": 24,
   "id": "6e1bd259",
   "metadata": {},
   "outputs": [
    {
     "name": "stdout",
     "output_type": "stream",
     "text": [
      "7\n",
      "[2 7]\n",
      "[ 6  7  8  9 10]\n",
      "[7 8 9]\n",
      "[ 6  7  8  9 10]\n",
      "[ 5 10]\n"
     ]
    }
   ],
   "source": [
    "print(b[1,1]) \n",
    "\n",
    "print(b[:,1]) \n",
    "\n",
    "print(b[1,:]) \n",
    "\n",
    "print(b[1,1:4])\n",
    "\n",
    "print(b[-1,:]) \n",
    "print(b[:,-1]) "
   ]
  },
  {
   "cell_type": "code",
   "execution_count": 26,
   "id": "e7f31cb6",
   "metadata": {},
   "outputs": [
    {
     "name": "stdout",
     "output_type": "stream",
     "text": [
      "[[1 2 3]\n",
      " [4 5 6]\n",
      " [7 8 9]]\n"
     ]
    }
   ],
   "source": [
    "array = np.array([[1,2,3],[4,5,6],[7,8,9]]) \n",
    "print(array)"
   ]
  },
  {
   "cell_type": "code",
   "execution_count": null,
   "id": "3954c766",
   "metadata": {},
   "outputs": [],
   "source": []
  }
 ],
 "metadata": {
  "kernelspec": {
   "display_name": "Python 3 (ipykernel)",
   "language": "python",
   "name": "python3"
  },
  "language_info": {
   "codemirror_mode": {
    "name": "ipython",
    "version": 3
   },
   "file_extension": ".py",
   "mimetype": "text/x-python",
   "name": "python",
   "nbconvert_exporter": "python",
   "pygments_lexer": "ipython3",
   "version": "3.9.13"
  }
 },
 "nbformat": 4,
 "nbformat_minor": 5
}
